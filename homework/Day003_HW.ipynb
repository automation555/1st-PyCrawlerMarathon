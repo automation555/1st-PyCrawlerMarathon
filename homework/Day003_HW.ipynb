{
 "cells": [
  {
   "cell_type": "markdown",
   "metadata": {},
   "source": [
    "# Python 下載XML檔案與解析\n",
    "\n",
    "\n",
    "* 了解 xml 檔案格式與內容\n",
    "* 能夠利用套件存取 xml 格式的檔案\n"
   ]
  },
  {
   "cell_type": "markdown",
   "metadata": {},
   "source": [
    "## 作業目標\n",
    "\n",
    "* 比較一下範例檔案中的「File I/O」與「xmltodict」讀出來的內容有什麼差異\n",
    "\n",
    "* 根據範例檔案的結果：\n",
    "    1. 請問高雄市有多少地區有溫度資料？\n",
    "    2. 請取出每一個地區所記錄的第一個時間點跟溫度\n",
    "    3. 請取出第一個地區所記錄的每一個時間點跟溫度"
   ]
  },
  {
   "cell_type": "markdown",
   "metadata": {},
   "source": [
    "### 比較一下範例檔案中的「File I/O」與「xmltodict」讀出來的內容有什麼差異\n"
   ]
  },
  {
   "cell_type": "code",
   "execution_count": null,
   "metadata": {},
   "outputs": [],
   "source": [
    "'''\n",
    "Your Code\n",
    "'''"
   ]
  },
  {
   "cell_type": "markdown",
   "metadata": {},
   "source": [
    "### 根據範例檔案的結果：\n",
    "\n",
    "1. 請問高雄市有多少地區有溫度資料？\n",
    "2. 請取出每一個地區所記錄的第一個時間點跟溫度\n",
    "3. 請取出第一個地區所記錄的每一個時間點跟溫度"
   ]
  },
  {
   "cell_type": "code",
   "execution_count": 29,
   "metadata": {},
   "outputs": [
    {
     "name": "stdout",
     "output_type": "stream",
     "text": [
      "高雄市 總共有：\n",
      "1 : 鹽埕區\n",
      "2 : 鼓山區\n",
      "3 : 左營區\n",
      "4 : 楠梓區\n",
      "5 : 三民區\n",
      "6 : 新興區\n",
      "7 : 前金區\n",
      "8 : 苓雅區\n",
      "9 : 前鎮區\n",
      "10 : 旗津區\n",
      "11 : 小港區\n",
      "12 : 鳳山區\n",
      "13 : 林園區\n",
      "14 : 大寮區\n",
      "15 : 大樹區\n",
      "16 : 大社區\n",
      "17 : 仁武區\n",
      "18 : 鳥松區\n",
      "19 : 岡山區\n",
      "20 : 橋頭區\n",
      "21 : 燕巢區\n",
      "22 : 田寮區\n",
      "23 : 阿蓮區\n",
      "24 : 路竹區\n",
      "25 : 湖內區\n",
      "26 : 茄萣區\n",
      "27 : 永安區\n",
      "28 : 彌陀區\n",
      "29 : 梓官區\n",
      "30 : 旗山區\n",
      "31 : 美濃區\n",
      "32 : 六龜區\n",
      "33 : 甲仙區\n",
      "34 : 杉林區\n",
      "35 : 內門區\n",
      "36 : 茂林區\n",
      "37 : 桃源區\n",
      "38 : 那瑪夏區\n"
     ]
    }
   ],
   "source": [
    "# 1. 請問高雄市有多少地區有溫度資料？\n",
    "\n",
    "# 讀檔案\n",
    "fh = open(\"./data/64_72hr_CH.xml\", \"r\", encoding=\"utf-8\")\n",
    "xml = fh.read()\n",
    "fh.close()\n",
    "# print(xml)\n",
    "\n",
    "# 解析檔案內容\n",
    "import xmltodict\n",
    "d = dict(xmltodict.parse(xml))\n",
    "\n",
    "# 取出 datasetDescription\n",
    "# datasetDescription = d['cwbopendata']['dataset']['locations']['locationsName']\n",
    "# print(datasetDescription)\n",
    "print( d['cwbopendata']['dataset']['locations']['locationsName'],\"總共有：\")\n",
    "# print( d['cwbopendata']['dataset']['locations']['location'])\n",
    "#print( d['cwbopendata']['dataset']['locations']['location'][0]['locationName'])\n",
    "x = d['cwbopendata']['dataset']['locations']['location']\n",
    "# len(x)\n",
    "# type(x)\n",
    "for z in range(len(x)):\n",
    "    print(z+1, \":\", x[z]['locationName'])\n"
   ]
  },
  {
   "cell_type": "code",
   "execution_count": 2,
   "metadata": {},
   "outputs": [
    {
     "name": "stdout",
     "output_type": "stream",
     "text": [
      "1 : 鹽埕區 2019-06-28T12:00:00+08:00 33 攝氏度\n",
      "2 : 鼓山區 2019-06-28T12:00:00+08:00 33 攝氏度\n",
      "3 : 左營區 2019-06-28T12:00:00+08:00 33 攝氏度\n",
      "4 : 楠梓區 2019-06-28T12:00:00+08:00 34 攝氏度\n",
      "5 : 三民區 2019-06-28T12:00:00+08:00 32 攝氏度\n",
      "6 : 新興區 2019-06-28T12:00:00+08:00 33 攝氏度\n",
      "7 : 前金區 2019-06-28T12:00:00+08:00 33 攝氏度\n",
      "8 : 苓雅區 2019-06-28T12:00:00+08:00 33 攝氏度\n",
      "9 : 前鎮區 2019-06-28T12:00:00+08:00 33 攝氏度\n",
      "10 : 旗津區 2019-06-28T12:00:00+08:00 32 攝氏度\n",
      "11 : 小港區 2019-06-28T12:00:00+08:00 33 攝氏度\n",
      "12 : 鳳山區 2019-06-28T12:00:00+08:00 34 攝氏度\n",
      "13 : 林園區 2019-06-28T12:00:00+08:00 33 攝氏度\n",
      "14 : 大寮區 2019-06-28T12:00:00+08:00 34 攝氏度\n",
      "15 : 大樹區 2019-06-28T12:00:00+08:00 34 攝氏度\n",
      "16 : 大社區 2019-06-28T12:00:00+08:00 34 攝氏度\n",
      "17 : 仁武區 2019-06-28T12:00:00+08:00 33 攝氏度\n",
      "18 : 鳥松區 2019-06-28T12:00:00+08:00 34 攝氏度\n",
      "19 : 岡山區 2019-06-28T12:00:00+08:00 34 攝氏度\n",
      "20 : 橋頭區 2019-06-28T12:00:00+08:00 35 攝氏度\n",
      "21 : 燕巢區 2019-06-28T12:00:00+08:00 34 攝氏度\n",
      "22 : 田寮區 2019-06-28T12:00:00+08:00 34 攝氏度\n",
      "23 : 阿蓮區 2019-06-28T12:00:00+08:00 34 攝氏度\n",
      "24 : 路竹區 2019-06-28T12:00:00+08:00 33 攝氏度\n",
      "25 : 湖內區 2019-06-28T12:00:00+08:00 33 攝氏度\n",
      "26 : 茄萣區 2019-06-28T12:00:00+08:00 33 攝氏度\n",
      "27 : 永安區 2019-06-28T12:00:00+08:00 32 攝氏度\n",
      "28 : 彌陀區 2019-06-28T12:00:00+08:00 32 攝氏度\n",
      "29 : 梓官區 2019-06-28T12:00:00+08:00 32 攝氏度\n",
      "30 : 旗山區 2019-06-28T12:00:00+08:00 34 攝氏度\n",
      "31 : 美濃區 2019-06-28T12:00:00+08:00 34 攝氏度\n",
      "32 : 六龜區 2019-06-28T12:00:00+08:00 34 攝氏度\n",
      "33 : 甲仙區 2019-06-28T12:00:00+08:00 33 攝氏度\n",
      "34 : 杉林區 2019-06-28T12:00:00+08:00 36 攝氏度\n",
      "35 : 內門區 2019-06-28T12:00:00+08:00 34 攝氏度\n",
      "36 : 茂林區 2019-06-28T12:00:00+08:00 34 攝氏度\n",
      "37 : 桃源區 2019-06-28T12:00:00+08:00 31 攝氏度\n",
      "38 : 那瑪夏區 2019-06-28T12:00:00+08:00 29 攝氏度\n"
     ]
    }
   ],
   "source": [
    "# 2. 請取出每一個地區所記錄的第一個時間點跟溫度\n",
    "\n",
    "# 讀檔案\n",
    "fh = open(\"./data/64_72hr_CH.xml\", \"r\", encoding=\"utf-8\")\n",
    "xml = fh.read()\n",
    "fh.close()\n",
    "# print(xml)\n",
    "\n",
    "# 解析檔案內容\n",
    "import xmltodict\n",
    "d = dict(xmltodict.parse(xml))\n",
    "\n",
    "# 取出 datasetDescription\n",
    "x = d['cwbopendata']['dataset']['locations']['location']\n",
    "for z in range(len(x)):\n",
    "    print(z+1, \":\", x[z]['locationName'], x[z]['weatherElement'][0]['time'][0]['dataTime'], \\\n",
    "          x[z]['weatherElement'][0]['time'][0]['elementValue']['value'], \\\n",
    "          x[z]['weatherElement'][0]['time'][0]['elementValue']['measures'])\n",
    "    \n",
    "    "
   ]
  },
  {
   "cell_type": "code",
   "execution_count": 3,
   "metadata": {},
   "outputs": [
    {
     "name": "stdout",
     "output_type": "stream",
     "text": [
      "第一個地區： 鹽埕區\n",
      "1 : 2019-06-28T12:00:00+08:00 33 攝氏度\n",
      "2 : 2019-06-28T12:00:00+08:00 33 攝氏度\n",
      "3 : 2019-06-28T12:00:00+08:00 33 攝氏度\n",
      "4 : 2019-06-28T12:00:00+08:00 34 攝氏度\n",
      "5 : 2019-06-28T12:00:00+08:00 32 攝氏度\n",
      "6 : 2019-06-28T12:00:00+08:00 33 攝氏度\n",
      "7 : 2019-06-28T12:00:00+08:00 33 攝氏度\n",
      "8 : 2019-06-28T12:00:00+08:00 33 攝氏度\n",
      "9 : 2019-06-28T12:00:00+08:00 33 攝氏度\n",
      "10 : 2019-06-28T12:00:00+08:00 32 攝氏度\n",
      "11 : 2019-06-28T12:00:00+08:00 33 攝氏度\n",
      "12 : 2019-06-28T12:00:00+08:00 34 攝氏度\n",
      "13 : 2019-06-28T12:00:00+08:00 33 攝氏度\n",
      "14 : 2019-06-28T12:00:00+08:00 34 攝氏度\n",
      "15 : 2019-06-28T12:00:00+08:00 34 攝氏度\n",
      "16 : 2019-06-28T12:00:00+08:00 34 攝氏度\n",
      "17 : 2019-06-28T12:00:00+08:00 33 攝氏度\n",
      "18 : 2019-06-28T12:00:00+08:00 34 攝氏度\n",
      "19 : 2019-06-28T12:00:00+08:00 34 攝氏度\n",
      "20 : 2019-06-28T12:00:00+08:00 35 攝氏度\n",
      "21 : 2019-06-28T12:00:00+08:00 34 攝氏度\n",
      "22 : 2019-06-28T12:00:00+08:00 34 攝氏度\n",
      "23 : 2019-06-28T12:00:00+08:00 34 攝氏度\n",
      "24 : 2019-06-28T12:00:00+08:00 33 攝氏度\n",
      "25 : 2019-06-28T12:00:00+08:00 33 攝氏度\n"
     ]
    }
   ],
   "source": [
    "# 3. 請取出第一個地區所記錄的每一個時間點跟溫度\n",
    "\n",
    "# 讀檔案\n",
    "fh = open(\"./data/64_72hr_CH.xml\", \"r\", encoding=\"utf-8\")\n",
    "xml = fh.read()\n",
    "fh.close()\n",
    "# print(xml)\n",
    "\n",
    "# 解析檔案內容\n",
    "import xmltodict\n",
    "d = dict(xmltodict.parse(xml))\n",
    "\n",
    "# 取出 datasetDescription\n",
    "x = d['cwbopendata']['dataset']['locations']['location']\n",
    "print(\"第一個地區：\", x[0]['locationName'])\n",
    "\n",
    "for z in range(len(x[0]['weatherElement'][0]['time'][0]['dataTime'])):\n",
    "    print(z+1, \":\", x[z]['weatherElement'][0]['time'][0]['dataTime'], \\\n",
    "          x[z]['weatherElement'][0]['time'][0]['elementValue']['value'], \\\n",
    "          x[z]['weatherElement'][0]['time'][0]['elementValue']['measures'])\n",
    "    "
   ]
  },
  {
   "cell_type": "code",
   "execution_count": null,
   "metadata": {},
   "outputs": [],
   "source": []
  }
 ],
 "metadata": {
  "kernelspec": {
   "display_name": "Python 3",
   "language": "python",
   "name": "python3"
  },
  "language_info": {
   "codemirror_mode": {
    "name": "ipython",
    "version": 3
   },
   "file_extension": ".py",
   "mimetype": "text/x-python",
   "name": "python",
   "nbconvert_exporter": "python",
   "pygments_lexer": "ipython3",
   "version": "3.7.3"
  }
 },
 "nbformat": 4,
 "nbformat_minor": 2
}
